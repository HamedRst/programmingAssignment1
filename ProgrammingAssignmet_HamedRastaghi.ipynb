{
  "nbformat": 4,
  "nbformat_minor": 0,
  "metadata": {
    "colab": {
      "provenance": [],
      "collapsed_sections": [
        "EM73pQgdkBjo",
        "D6rVepM_kKi1"
      ]
    },
    "kernelspec": {
      "name": "python3",
      "display_name": "Python 3"
    },
    "language_info": {
      "name": "python"
    }
  },
  "cells": [
    {
      "cell_type": "code",
      "source": [
        "import re"
      ],
      "metadata": {
        "id": "yITaCVIILx44"
      },
      "execution_count": 402,
      "outputs": []
    },
    {
      "cell_type": "markdown",
      "source": [
        "#Functions"
      ],
      "metadata": {
        "id": "EM73pQgdkBjo"
      }
    },
    {
      "cell_type": "code",
      "source": [
        "def replace_single_quotes(text):\n",
        "    # Use regular expressions to find and replace ' after alphabetic characters\n",
        "    modified_text = re.sub(r'([a-zA-Z])\\'', r'~\\1', text)\n",
        "    modified_text = modified_text.replace('+','|')\n",
        "    modified_text = modified_text.replace('*','&')\n",
        "    return modified_text\n"
      ],
      "metadata": {
        "id": "KOI3wQTBKWVn"
      },
      "execution_count": 403,
      "outputs": []
    },
    {
      "cell_type": "code",
      "source": [
        "def extract_variables(expression):\n",
        "    # Use regular expressions to find variable names\n",
        "    variable_pattern = r'\\b[a-zA-Z_][a-zA-Z0-9_]*\\b'\n",
        "    variables = re.findall(variable_pattern, expression)\n",
        "\n",
        "    # Remove duplicates by converting to a set and then back to a list\n",
        "    unique_variables = list(set(variables))\n",
        "\n",
        "    # Sort the variables alphabetically\n",
        "    unique_variables.sort()\n",
        "\n",
        "    return unique_variables\n"
      ],
      "metadata": {
        "id": "34LF650oTh_g"
      },
      "execution_count": 404,
      "outputs": []
    },
    {
      "cell_type": "code",
      "source": [
        "def replace_single_quotes2(text):\n",
        "    # Use regular expressions to find and replace ' after alphabetic characters\n",
        "    modified_text = text.replace('~',' not ')\n",
        "    modified_text = modified_text.replace('|',' or ')\n",
        "    modified_text = modified_text.replace('&',' and ')\n",
        "    return modified_text\n"
      ],
      "metadata": {
        "id": "Vm7haNUCTXbh"
      },
      "execution_count": 405,
      "outputs": []
    },
    {
      "cell_type": "code",
      "source": [
        "def get_bits_with_fixed_length(number, lenght):\n",
        "    # Get the binary representation of the number\n",
        "    bits = []\n",
        "    while number:\n",
        "        bits.append(number & 1)\n",
        "        number >>= 1\n",
        "    bits.reverse()\n",
        "\n",
        "    # Calculate the number of leading zeros to add\n",
        "    leading_zeros = [0] * (lenght - len(bits))\n",
        "\n",
        "    # Combine leading zeros and the actual bits\n",
        "    result = leading_zeros + bits\n",
        "\n",
        "    return result"
      ],
      "metadata": {
        "id": "RDse2Y5DcZy1"
      },
      "execution_count": 406,
      "outputs": []
    },
    {
      "cell_type": "code",
      "source": [
        "def get_truth_table(user_input):\n",
        "  var_list = extract_variables(replace_single_quotes(user_input))\n",
        "  table_list=[]\n",
        "  for j in range(2**(len(var_list))):\n",
        "    number_bits= get_bits_with_fixed_length(j, len(var_list))\n",
        "    temp = replace_single_quotes(user_input)\n",
        "    for i in range(len(var_list)):\n",
        "      temp = temp.replace(var_list[i], str(number_bits[i]))\n",
        "    temp = temp.replace(\"~1\", \"0\").replace(\"~0\",\"1\")\n",
        "    table_list.append(eval(temp))\n",
        "  return table_list\n"
      ],
      "metadata": {
        "id": "82HkD6DEPbE1"
      },
      "execution_count": 407,
      "outputs": []
    },
    {
      "cell_type": "code",
      "source": [
        "def SOP(user_input):\n",
        "  SOP_Index=[]\n",
        "  truth_table = get_truth_table(user_input)\n",
        "  for i in range(len(truth_table)):\n",
        "    if truth_table[i]:\n",
        "      SOP_Index.append(i);\n",
        "  sigma_sign = '\\u03A3'\n",
        "  # print(\" Canonical SOP = \"+sigma_sign+str(SOP_Index).replace('[','(').replace(']',')'))\n",
        "  return SOP_Index"
      ],
      "metadata": {
        "id": "G7sPhayhnym-"
      },
      "execution_count": 408,
      "outputs": []
    },
    {
      "cell_type": "code",
      "source": [
        "def POS(user_input):\n",
        "  POS_Index=[]\n",
        "  truth_table = get_truth_table(user_input)\n",
        "  for i in range(len(truth_table)):\n",
        "    if truth_table[i]==0:\n",
        "      POS_Index.append(i);\n",
        "  #print(\" Canonical POS = \"+\"PI\"+str(POS_Index).replace('[','(').replace(']',')'))\n",
        "  return POS_Index"
      ],
      "metadata": {
        "id": "iLoSolfSo-MB"
      },
      "execution_count": 409,
      "outputs": []
    },
    {
      "cell_type": "code",
      "source": [
        "def INVERSE_SOP(user_input):\n",
        "  INVERSE_SOP_Index=[]\n",
        "  truth_table = get_truth_table(user_input)\n",
        "  for i in range(len(truth_table)):\n",
        "    if truth_table[i]==0:\n",
        "      INVERSE_SOP_Index.append(i);\n",
        "  return INVERSE_SOP_Index"
      ],
      "metadata": {
        "id": "qlo_4r9pqH7w"
      },
      "execution_count": 410,
      "outputs": []
    },
    {
      "cell_type": "code",
      "source": [
        "def INVERSE_POS(user_input):\n",
        "  INVERSE_POS_Index=[]\n",
        "  truth_table = get_truth_table(user_input)\n",
        "  for i in range(len(truth_table)):\n",
        "    if truth_table[i]:\n",
        "      INVERSE_POS_Index.append(i);\n",
        "  return INVERSE_POS_Index\n"
      ],
      "metadata": {
        "id": "kBMshAgusEbj"
      },
      "execution_count": 411,
      "outputs": []
    },
    {
      "cell_type": "code",
      "source": [
        "from IPython.core.display import deepcopy\n",
        "\n",
        "def mul(x,y):\n",
        "    res = []\n",
        "    for i in x:\n",
        "        if i+\"'\" in y or (len(i)==2 and i[0] in y):\n",
        "            return []\n",
        "        else:\n",
        "            res.append(i)\n",
        "    for i in y:\n",
        "        if i not in res:\n",
        "            res.append(i)\n",
        "    return res\n",
        "\n",
        "def multiply(x,y):\n",
        "    res = []\n",
        "    for i in x:\n",
        "        for j in y:\n",
        "            tmp = mul(i,j)\n",
        "            res.append(tmp) if len(tmp) != 0 else None\n",
        "    return res\n",
        "\n",
        "def EPI_finging(x):\n",
        "    res = []\n",
        "    for i in x:\n",
        "        if len(x[i]) == 1:\n",
        "            res.append(x[i][0]) if x[i][0] not in res else None\n",
        "    return res\n",
        "\n",
        "def get_var(x):\n",
        "    var_list = []\n",
        "    for i in range(len(x)):\n",
        "        if x[i] == '0':\n",
        "            var_list.append(chr(i+65)+\"'\")\n",
        "        elif x[i] == '1':\n",
        "            var_list.append(chr(i+65))\n",
        "    return var_list\n",
        "\n",
        "def flatten(x):\n",
        "    flattened_items = []\n",
        "    for i in x:\n",
        "        flattened_items.extend(x[i])\n",
        "    return flattened_items\n",
        "\n",
        "def get_minterms(a):\n",
        "    gaps = a.count('-')\n",
        "    if gaps == 0:\n",
        "        return [str(int(a,2))]\n",
        "    x = [bin(i)[2:].zfill(gaps) for i in range(pow(2,gaps))]\n",
        "    temp = []\n",
        "    for i in range(pow(2,gaps)):\n",
        "        temp2,ind = a[:],-1\n",
        "        for j in x[0]:\n",
        "            if ind != -1:\n",
        "                ind = ind+temp2[ind+1:].find('-')+1\n",
        "            else:\n",
        "                ind = temp2[ind+1:].find('-')\n",
        "            temp2 = temp2[:ind]+j+temp2[ind+1:]\n",
        "        temp.append(str(int(temp2,2)))\n",
        "        x.pop(0)\n",
        "    return temp\n",
        "\n",
        "def compare(a,b):\n",
        "    c = 0\n",
        "    for i in range(len(a)):\n",
        "        if a[i] != b[i]:\n",
        "            mismatch_index = i\n",
        "            c += 1\n",
        "            if c>1:\n",
        "                return (False,None)\n",
        "    return (True,mismatch_index)\n",
        "\n",
        "def remove_Item(_chart,terms):\n",
        "    for i in terms:\n",
        "        for j in get_minterms(i):\n",
        "            try:\n",
        "                del _chart[j]\n",
        "            except KeyError:\n",
        "                pass\n",
        "\n",
        "def Quine_McCluskey(user_input):\n",
        "\n",
        "  minterms = SOP(user_input);\n",
        "  size = len(extract_variables(user_input));\n",
        "  primeImplicant_List=[]\n",
        "  Lists=[]\n",
        "  for i in range(size+1):\n",
        "    Lists.append([])\n",
        "  for minterm in minterms:\n",
        "          Lists[bin(minterm).count('1')].append(bin(minterm)[2:].zfill(size))\n",
        "  while True:\n",
        "    temp=[];\n",
        "    temp_Lists=deepcopy(Lists);\n",
        "    Lists=[]\n",
        "    for i in range(size+1):\n",
        "      Lists.append([])\n",
        "    m=0;\n",
        "    marked=[];\n",
        "    local_unmarked=[];\n",
        "    should_stop = True;\n",
        "    for i in range(size+1):\n",
        "      temp.append(i)\n",
        "    for i in range(len(temp)-1):\n",
        "            for j in temp_Lists[temp[i]]:\n",
        "                for k in temp_Lists[temp[i+1]]:\n",
        "                    res = compare(j,k)\n",
        "                    if res[0]:\n",
        "                        try:\n",
        "                            Lists[m].append(j[:res[1]]+'-'+j[res[1]+1:]) if j[:res[1]]+'-'+j[res[1]+1:] not in Lists[m] else None\n",
        "                        except KeyError:\n",
        "                            Lists[m] = [j[:res[1]]+'-'+j[res[1]+1:]]\n",
        "                        should_stop = False\n",
        "                        if j not in marked:\n",
        "                          marked.append(j)\n",
        "                        if k not in marked:\n",
        "                          marked.append(k)\n",
        "            m += 1\n",
        "    local_unmarked=[]\n",
        "    for item in temp_Lists:\n",
        "      for item2 in item:\n",
        "        if item2 not in marked:\n",
        "          local_unmarked.append(item)\n",
        "    for item in local_unmarked:\n",
        "      if item not in primeImplicant_List:\n",
        "        primeImplicant_List.append(item)\n",
        "    if should_stop:\n",
        "        break\n",
        "\n",
        "  primeImplicant = []\n",
        "  for item in primeImplicant_List:\n",
        "    for item2 in item:\n",
        "      primeImplicant.append(item2)\n",
        "  sz = len(str(minterms[-1]))\n",
        "  chart = {}\n",
        "  for i in primeImplicant:\n",
        "      merged_minterms,y = get_minterms(i),0\n",
        "      for j in merged_minterms:\n",
        "          x = minterms.index(int(j))*(sz+1)\n",
        "          y = x+sz\n",
        "          try:\n",
        "              chart[j].append(i) if i not in chart[j] else None\n",
        "          except KeyError:\n",
        "              chart[j] = [i]\n",
        "  EPI = EPI_finging(chart)\n",
        "  remove_Item(chart,EPI)\n",
        "  if(len(chart) == 0):\n",
        "      ESS_PI = [get_var(i) for i in EPI]\n",
        "  else:\n",
        "      P = [[get_var(j) for j in chart[i]] for i in chart]\n",
        "      while len(P)>1:\n",
        "          P[1] = multiply(P[0],P[1])\n",
        "          P.pop(0)\n",
        "      ESS_PI = [min(P[0],key=len)]\n",
        "      ESS_PI.extend(get_var(i) for i in EPI)\n",
        "  return primeImplicant, ESS_PI"
      ],
      "metadata": {
        "id": "dWj7kJbMYN2a"
      },
      "execution_count": 412,
      "outputs": []
    },
    {
      "cell_type": "code",
      "source": [
        "def minimized_SOP(user_input):\n",
        "  sop_num=len(SOP(user_input))\n",
        "  minimum_num=len(Quine_McCluskey(user_input)[1])\n",
        "  print(\"number of saved literals =\",minimum_num,\"number of the canonical version=\", sop_num)"
      ],
      "metadata": {
        "id": "yLntd_uOY1t2"
      },
      "execution_count": 413,
      "outputs": []
    },
    {
      "cell_type": "code",
      "source": [
        "def minimized_POS(user_input):\n",
        "  Pos_num=len(POS(user_input))\n",
        "  maxterm_num=len(Quine_McCluskey(\"~(\"+user_input+\")\")[1])\n",
        "  print(\"number of saved literals =\",maxterm_num,\"number of the canonical version=\", Pos_num)"
      ],
      "metadata": {
        "id": "MOE2o2Zr8wIk"
      },
      "execution_count": 414,
      "outputs": []
    },
    {
      "cell_type": "code",
      "source": [
        "def findPrimeImplicants(user_input):\n",
        "  minimum_num=len(Quine_McCluskey(user_input)[0])\n",
        "  print(\"number of Prime implicants are: \",minimum_num)"
      ],
      "metadata": {
        "id": "5rEgXV4i5t6X"
      },
      "execution_count": 415,
      "outputs": []
    },
    {
      "cell_type": "code",
      "source": [
        "def findEssPrimeImplicants(user_input):\n",
        "  minimum_num=len(Quine_McCluskey(user_input)[1])\n",
        "  print(\"number of Essential Prime implicants are: \",minimum_num)"
      ],
      "metadata": {
        "id": "spwILtfo65CW"
      },
      "execution_count": 416,
      "outputs": []
    },
    {
      "cell_type": "code",
      "source": [
        "def onSetMinterms(user_input):\n",
        "  print(\"the number of Onset_minterms =\",sum(get_truth_table(user_input)))"
      ],
      "metadata": {
        "id": "EXcSQyvn7Aly"
      },
      "execution_count": 417,
      "outputs": []
    },
    {
      "cell_type": "code",
      "source": [
        "def OnSetMaxterms(user_input):\n",
        "  print(\"the number of Onset_maxterms =\", sum([1 if x == 0 else 0 for x in get_truth_table(user_input)]))"
      ],
      "metadata": {
        "id": "id0Bqw_67roZ"
      },
      "execution_count": 418,
      "outputs": []
    },
    {
      "cell_type": "code",
      "source": [
        "def numberOfActiveInputs(user_input):\n",
        "    temp = Quine_McCluskey(user_input)[1]\n",
        "    temp2= 0\n",
        "    for item in temp:\n",
        "      for item2 in item:\n",
        "        temp2 = temp2+1\n",
        "    return temp2"
      ],
      "metadata": {
        "id": "dRqk-DFZdrfr"
      },
      "execution_count": 427,
      "outputs": []
    },
    {
      "cell_type": "code",
      "source": [
        "def getEssPrimeImplicantExpression(user_input):\n",
        "  temp = Quine_McCluskey(user_input)[1]\n",
        "  a=\"\"\n",
        "  for item in temp:\n",
        "    if len(item)==1:\n",
        "      if a == \"\":\n",
        "        a=a+str(item[0])\n",
        "      else:\n",
        "        a=a+\"+\"+str(item[0])\n",
        "    else:\n",
        "      for i in range(len(item)):\n",
        "        if i==0:\n",
        "          if a==\"\":\n",
        "            a=a+str(item[i])\n",
        "          else:\n",
        "            a=a+\"+\"+str(item[i])\n",
        "        else:\n",
        "          a = a + \"&\" + str(item[i])\n",
        "  return print(a)\n",
        ""
      ],
      "metadata": {
        "id": "K1rFyHNRgmFy"
      },
      "execution_count": 447,
      "outputs": []
    },
    {
      "cell_type": "code",
      "source": [
        "def AIG():\n",
        "  class AIGNode:\n",
        "      def __init__(self, node_type, inputs):\n",
        "          self.node_type = node_type\n",
        "          self.inputs = inputs\n",
        "\n",
        "  def aig_to_string(node_map, node_id):\n",
        "      node = node_map[node_id]\n",
        "\n",
        "      if node.node_type == \"Input\":\n",
        "          return node.inputs\n",
        "      elif node.node_type == \"Inverter\":\n",
        "          input_node = node_map[node.inputs[0]]\n",
        "          input_str = aig_to_string(node_map, node.inputs[0])\n",
        "          return f\"(~{input_str})\"\n",
        "      elif node.node_type == \"AND\":\n",
        "          input1_str = aig_to_string(node_map, node.inputs[0])\n",
        "          input2_str = aig_to_string(node_map, node.inputs[1])\n",
        "          return f\"({input1_str} * {input2_str})\"\n",
        "      else:\n",
        "          return \"\"\n",
        "  # Ask the user for the node_map and output_node_id\n",
        "  node_map = {}\n",
        "  while True:\n",
        "      try:\n",
        "          node_id = int(input(\"Enter node ID (or -1 to stop): \"))\n",
        "          if node_id == -1:\n",
        "              break\n",
        "          node_type = input(\"Enter node type (Input, Inverter, AND): \")\n",
        "          if node_type == \"Input\":\n",
        "              input_name = input(\"Enter input name: \")\n",
        "              node = AIGNode(node_type, input_name)\n",
        "          else:\n",
        "              input_ids = input(\"Enter input node IDs (comma-separated): \").split(\",\")\n",
        "              input_ids = [int(id) for id in input_ids]\n",
        "              node = AIGNode(node_type, input_ids)\n",
        "          node_map[node_id] = node\n",
        "      except ValueError:\n",
        "          print(\"Invalid input. Please enter a valid node ID and input values.\")\n",
        "\n",
        "  output_node_id = int(input(\"Enter the output node ID: \"))\n",
        "\n",
        "\n",
        "  expression = aig_to_string(node_map, output_node_id)\n",
        "  return expression\n"
      ],
      "metadata": {
        "id": "0AOfJcDPFrJ6"
      },
      "execution_count": 419,
      "outputs": []
    },
    {
      "cell_type": "markdown",
      "source": [
        "#Run"
      ],
      "metadata": {
        "id": "D6rVepM_kKi1"
      }
    },
    {
      "cell_type": "code",
      "source": [
        "def Run():\n",
        "  print(\"Welcome to hamed's Program:\\n\")\n",
        "  input_format = input(\"How do you want to give me the circuit? :\\n 1.Boolean algebraic function \\n 2. AIG \\n\")\n",
        "  if input_format == '1':\n",
        "    user_input = input(\"Enter a function: \")\n",
        "  elif input_format == '2':\n",
        "    user_input = AIG()\n",
        "  else:\n",
        "    print(\"please enter 1 or 2 for input format\")\n",
        "  while True:\n",
        "    input_function = input(\"\\n\\n\\n commands: \\n1. Return the design as a canonical SOP\\n2. Return the design as a canonical POS\\n3. Return the design INVERSE as a canonical SOP\\n4. Return the design INVERSE as a canonical POS\\n5. Return a minimized number of literals representation in SOP\\n6. Return a minimized number of literals representation in POS\\n7. Report the number of Prime Implicants\\n8. Report the number of Essential Prime Implicants\\n9. Report the number of ON-Set minterms\\n10. Report the number of ON-Set maxterms\\n11. number of inputs that affects output:  \\n12.get expression using Essential Prime \\n13.exit\\n\")\n",
        "    match input_function :\n",
        "      case '1':\n",
        "        print(\"\\n\\n\\n\")\n",
        "        SOP_Index = SOP(user_input)\n",
        "        sigma_sign = '\\u03A3'\n",
        "        print(\" Canonical SOP = \"+sigma_sign+str(SOP_Index).replace('[','(').replace(']',')'));\n",
        "\n",
        "      case '2':\n",
        "        print(\"\\n\\n\\n\")\n",
        "        POS_Index = POS(user_input)\n",
        "        print(\" Canonical POS = \"+\"PI\"+str(POS_Index).replace('[','(').replace(']',')'))\n",
        "      case '3':\n",
        "        print(\"\\n\\n\\n\")\n",
        "        INVERSE_SOP_Index = INVERSE_SOP(user_input)\n",
        "        sigma_sign = '\\u03A3'\n",
        "        print(\" Inverse Canonical SOP = \"+sigma_sign+str(INVERSE_SOP_Index).replace('[','(').replace(']',')'))\n",
        "      case '4':\n",
        "        print(\"\\n\\n\\n\")\n",
        "        INVERSE_POS_Index = INVERSE_POS(user_input)\n",
        "        print(\" Inverse Canonical POS = \"+\"PI\"+str(INVERSE_POS_Index).replace('[','(').replace(']',')'))\n",
        "      case '5':\n",
        "          print(\"\\n\\n\\n\")\n",
        "          minimized_SOP(user_input);\n",
        "      case '6':\n",
        "          print(\"\\n\\n\\n\")\n",
        "          minimized_POS(user_input);\n",
        "      case '7':\n",
        "          print(\"\\n\\n\\n\")\n",
        "          findPrimeImplicants(user_input);\n",
        "      case '8':\n",
        "          print(\"\\n\\n\\n\")\n",
        "          findEssPrimeImplicants(user_input);\n",
        "      case '9':\n",
        "          print(\"\\n\\n\\n\")\n",
        "          onSetMinterms(user_input);\n",
        "      case '10':\n",
        "          print(\"\\n\\n\\n\")\n",
        "          OnSetMaxterms(user_input);\n",
        "      case '11':\n",
        "          print(\"\\n\\n\\n\")\n",
        "          print(\"number of inputs that affect the output: \",numberOfActiveInputs(user_input))\n",
        "      case '12':\n",
        "          print(\"\\n\\n\\n\")\n",
        "          getEssPrimeImplicantExpression(user_input)\n",
        "      case default:\n",
        "          break\n",
        "\n"
      ],
      "metadata": {
        "id": "PqIitLUnPPcR"
      },
      "execution_count": 448,
      "outputs": []
    },
    {
      "cell_type": "code",
      "source": [
        "Run()"
      ],
      "metadata": {
        "colab": {
          "base_uri": "https://localhost:8080/",
          "height": 1000
        },
        "id": "omvrvKuSTut7",
        "outputId": "25a4ff43-a871-4b0e-c25a-f38205f3a98a"
      },
      "execution_count": 449,
      "outputs": [
        {
          "output_type": "stream",
          "name": "stdout",
          "text": [
            "Welcome to hamed's Program:\n",
            "\n",
            "How do you want to give me the circuit? :\n",
            " 1.Boolean algebraic function \n",
            " 2. AIG \n",
            "1\n",
            "Enter a function: a+b*~a+c*a\n",
            "\n",
            "\n",
            "\n",
            " commands: \n",
            "1. Return the design as a canonical SOP\n",
            "2. Return the design as a canonical POS\n",
            "3. Return the design INVERSE as a canonical SOP\n",
            "4. Return the design INVERSE as a canonical POS\n",
            "5. Return a minimized number of literals representation in SOP\n",
            "6. Return a minimized number of literals representation in POS\n",
            "7. Report the number of Prime Implicants\n",
            "8. Report the number of Essential Prime Implicants\n",
            "9. Report the number of ON-Set minterms\n",
            "10. Report the number of ON-Set maxterms\n",
            " \n",
            " 11. number of inputs that affects output:  \n",
            "12.get expression using Essential Prime \n",
            "13.exit\n",
            "11\n",
            "\n",
            "\n",
            "\n",
            "\n",
            "number of inputs that affect the output:  2\n",
            "\n",
            "\n",
            "\n",
            " commands: \n",
            "1. Return the design as a canonical SOP\n",
            "2. Return the design as a canonical POS\n",
            "3. Return the design INVERSE as a canonical SOP\n",
            "4. Return the design INVERSE as a canonical POS\n",
            "5. Return a minimized number of literals representation in SOP\n",
            "6. Return a minimized number of literals representation in POS\n",
            "7. Report the number of Prime Implicants\n",
            "8. Report the number of Essential Prime Implicants\n",
            "9. Report the number of ON-Set minterms\n",
            "10. Report the number of ON-Set maxterms\n",
            " \n",
            " 11. number of inputs that affects output:  \n",
            "12.get expression using Essential Prime \n",
            "13.exit\n",
            "12\n",
            "\n",
            "\n",
            "\n",
            "\n",
            "B+A\n"
          ]
        },
        {
          "output_type": "error",
          "ename": "KeyboardInterrupt",
          "evalue": "ignored",
          "traceback": [
            "\u001b[0;31m---------------------------------------------------------------------------\u001b[0m",
            "\u001b[0;31mKeyboardInterrupt\u001b[0m                         Traceback (most recent call last)",
            "\u001b[0;32m<ipython-input-449-ba08bcf0acbc>\u001b[0m in \u001b[0;36m<cell line: 1>\u001b[0;34m()\u001b[0m\n\u001b[0;32m----> 1\u001b[0;31m \u001b[0mRun\u001b[0m\u001b[0;34m(\u001b[0m\u001b[0;34m)\u001b[0m\u001b[0;34m\u001b[0m\u001b[0;34m\u001b[0m\u001b[0m\n\u001b[0m",
            "\u001b[0;32m<ipython-input-448-fa38323b402a>\u001b[0m in \u001b[0;36mRun\u001b[0;34m()\u001b[0m\n\u001b[1;32m      9\u001b[0m     \u001b[0mprint\u001b[0m\u001b[0;34m(\u001b[0m\u001b[0;34m\"please enter 1 or 2 for input format\"\u001b[0m\u001b[0;34m)\u001b[0m\u001b[0;34m\u001b[0m\u001b[0;34m\u001b[0m\u001b[0m\n\u001b[1;32m     10\u001b[0m   \u001b[0;32mwhile\u001b[0m \u001b[0;32mTrue\u001b[0m\u001b[0;34m:\u001b[0m\u001b[0;34m\u001b[0m\u001b[0;34m\u001b[0m\u001b[0m\n\u001b[0;32m---> 11\u001b[0;31m     \u001b[0minput_function\u001b[0m \u001b[0;34m=\u001b[0m \u001b[0minput\u001b[0m\u001b[0;34m(\u001b[0m\u001b[0;34m\"\\n\\n\\n commands: \\n1. Return the design as a canonical SOP\\n2. Return the design as a canonical POS\\n3. Return the design INVERSE as a canonical SOP\\n4. Return the design INVERSE as a canonical POS\\n5. Return a minimized number of literals representation in SOP\\n6. Return a minimized number of literals representation in POS\\n7. Report the number of Prime Implicants\\n8. Report the number of Essential Prime Implicants\\n9. Report the number of ON-Set minterms\\n10. Report the number of ON-Set maxterms\\n \\n 11. number of inputs that affects output:  \\n12.get expression using Essential Prime \\n13.exit\\n\"\u001b[0m\u001b[0;34m)\u001b[0m\u001b[0;34m\u001b[0m\u001b[0;34m\u001b[0m\u001b[0m\n\u001b[0m\u001b[1;32m     12\u001b[0m     \u001b[0mmatch\u001b[0m \u001b[0minput_function\u001b[0m \u001b[0;34m:\u001b[0m\u001b[0;34m\u001b[0m\u001b[0;34m\u001b[0m\u001b[0m\n\u001b[1;32m     13\u001b[0m       \u001b[0mcase\u001b[0m \u001b[0;34m'1'\u001b[0m\u001b[0;34m:\u001b[0m\u001b[0;34m\u001b[0m\u001b[0;34m\u001b[0m\u001b[0m\n",
            "\u001b[0;32m/usr/local/lib/python3.10/dist-packages/ipykernel/kernelbase.py\u001b[0m in \u001b[0;36mraw_input\u001b[0;34m(self, prompt)\u001b[0m\n\u001b[1;32m    849\u001b[0m                 \u001b[0;34m\"raw_input was called, but this frontend does not support input requests.\"\u001b[0m\u001b[0;34m\u001b[0m\u001b[0;34m\u001b[0m\u001b[0m\n\u001b[1;32m    850\u001b[0m             )\n\u001b[0;32m--> 851\u001b[0;31m         return self._input_request(str(prompt),\n\u001b[0m\u001b[1;32m    852\u001b[0m             \u001b[0mself\u001b[0m\u001b[0;34m.\u001b[0m\u001b[0m_parent_ident\u001b[0m\u001b[0;34m,\u001b[0m\u001b[0;34m\u001b[0m\u001b[0;34m\u001b[0m\u001b[0m\n\u001b[1;32m    853\u001b[0m             \u001b[0mself\u001b[0m\u001b[0;34m.\u001b[0m\u001b[0m_parent_header\u001b[0m\u001b[0;34m,\u001b[0m\u001b[0;34m\u001b[0m\u001b[0;34m\u001b[0m\u001b[0m\n",
            "\u001b[0;32m/usr/local/lib/python3.10/dist-packages/ipykernel/kernelbase.py\u001b[0m in \u001b[0;36m_input_request\u001b[0;34m(self, prompt, ident, parent, password)\u001b[0m\n\u001b[1;32m    893\u001b[0m             \u001b[0;32mexcept\u001b[0m \u001b[0mKeyboardInterrupt\u001b[0m\u001b[0;34m:\u001b[0m\u001b[0;34m\u001b[0m\u001b[0;34m\u001b[0m\u001b[0m\n\u001b[1;32m    894\u001b[0m                 \u001b[0;31m# re-raise KeyboardInterrupt, to truncate traceback\u001b[0m\u001b[0;34m\u001b[0m\u001b[0;34m\u001b[0m\u001b[0m\n\u001b[0;32m--> 895\u001b[0;31m                 \u001b[0;32mraise\u001b[0m \u001b[0mKeyboardInterrupt\u001b[0m\u001b[0;34m(\u001b[0m\u001b[0;34m\"Interrupted by user\"\u001b[0m\u001b[0;34m)\u001b[0m \u001b[0;32mfrom\u001b[0m \u001b[0;32mNone\u001b[0m\u001b[0;34m\u001b[0m\u001b[0;34m\u001b[0m\u001b[0m\n\u001b[0m\u001b[1;32m    896\u001b[0m             \u001b[0;32mexcept\u001b[0m \u001b[0mException\u001b[0m \u001b[0;32mas\u001b[0m \u001b[0me\u001b[0m\u001b[0;34m:\u001b[0m\u001b[0;34m\u001b[0m\u001b[0;34m\u001b[0m\u001b[0m\n\u001b[1;32m    897\u001b[0m                 \u001b[0mself\u001b[0m\u001b[0;34m.\u001b[0m\u001b[0mlog\u001b[0m\u001b[0;34m.\u001b[0m\u001b[0mwarning\u001b[0m\u001b[0;34m(\u001b[0m\u001b[0;34m\"Invalid Message:\"\u001b[0m\u001b[0;34m,\u001b[0m \u001b[0mexc_info\u001b[0m\u001b[0;34m=\u001b[0m\u001b[0;32mTrue\u001b[0m\u001b[0;34m)\u001b[0m\u001b[0;34m\u001b[0m\u001b[0;34m\u001b[0m\u001b[0m\n",
            "\u001b[0;31mKeyboardInterrupt\u001b[0m: Interrupted by user"
          ]
        }
      ]
    },
    {
      "cell_type": "code",
      "source": [],
      "metadata": {
        "id": "UU6i9S3UbJEM"
      },
      "execution_count": null,
      "outputs": []
    }
  ]
}